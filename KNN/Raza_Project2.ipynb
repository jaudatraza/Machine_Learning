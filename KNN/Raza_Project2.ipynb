{
 "cells": [
  {
   "cell_type": "markdown",
   "metadata": {},
   "source": [
    "# Project 2"
   ]
  },
  {
   "cell_type": "markdown",
   "metadata": {},
   "source": [
    "    The purpose of this assignment is to give you a chance to get some hands-on experience implementing anonparametric algorithm to perform classification and regression. Specifically, you will be implementing ak-nearest neighbor classifier and regressor. Be careful with how the attributes are handled. Nearest neighbormethods work best with numeric attributes, so some care will need to be taken to handle categorical (i.e.,discrete) attributes.\n",
    "    \n",
    "    In this project, and all future projects, the experimental design we will use is called 5-fold cross-validation.The basic idea is that you are going to take your data set and divide it into five equally-sized subsets. Whenyou do this, you should select the data points randomly, but with a twist. Ultimately, you would like thesame number of examples to be in each class in each of the five partitions. This is called “stratified” cross-validation. For example, if you have a data set of 100 points where 1/3 of the data is in one class and 2/3of the data is in another class, you will create five partitions of 20 examples each. Then for each of thesepartitions, 1/3 of the examples (around 6 or 7 points) should be from the one class, and the remaining pointsshould be in the other class.\n",
    "    \n",
    "    Note that stratification is not expected for the regression data sets.  You should be sure to sampleuniformly across all of the response values (i.e., targets) when creating your folds. One approach for doingthat (that’s not particularly random) is to sort the data on the response variable and take every fifth pointfor a given fold.\n",
    "    \n",
    "    With five-fold cross-validation, you will run five experiments where you train on four of the partitions(so 80% of the data) and test on the remaining partition (20% of the data). You will rotate through thepartitions so that each one serves as a test set exactly once. Then you will average the performance on thesefive test-set partitions when you report the results.\n",
    "    \n",
    "    Let’s talk again about tuning.  As before, extract 10% of the data to be used for tuning.  For yourtraining set, test against this 10% with different parameter values and pick the best model. Then apply themodel that goes with those tuned values against your test set. To be specific, since you are doing 5-foldcross-validation, you first take out 10% for tuning. Then from the remaining 90% split into five folds of 18%of the data each. For each of the five experiments, combine four of the folds, holding out the fifth as yourtest set. Train on the four folds while tuning with the 10%. Take the result and evaluate generalizationability on the held-out fold. Repeat this process five times for each of the folds but using the same 10% fortuning.\n",
    "    "
   ]
  },
  {
   "cell_type": "markdown",
   "metadata": {},
   "source": [
    "For this project, the following steps are required:"
   ]
  },
  {
   "cell_type": "markdown",
   "metadata": {},
   "source": [
    "1) Download the six (6) data sets from the UCI Machine Learning repository. You can find this repositoryathttp://archive.ics.uci.edu/ml/. Again, all data sets are also available in Blackboard. All ofthe specific URLs are also provided above.\n",
    "\n",
    "2) Implementk-nearest neighbor and be prepared to find the bestkvalue for your experiments. Youmust tunekand explain in your report how you did the tuning.\n",
    "\n",
    "3) Implement editedk-nearest neighbor. See above with respect to tuningk. On the regression problems,you should define an error threshold\u000fto determine if a prediction is correct or not. This\u000fwill needto be tuned.\n",
    "\n",
    "4) Implement condensedk-nearest neighbor. See above with respect to tuningkand\u000f.\n",
    "\n",
    "5) For classification, employ a plurality vote to determine the class. For regression, apply a Gaussian(radial basis function) kernel to make your prediction. You will need to tune the bandwidthσfor theGaussian kernel.\n",
    "\n",
    "6) Run your algorithms on each of the data sets. These runs should be done with 5-fold cross-validationso you can compare your results statistically. You can use classification error or mean squared error(as appropriate) for your loss function.\n",
    "\n",
    "7) Write a very brief paper that incorporates the following elements, summarizing the results of yourexperiments. Your paper is required to be at least 5 pages and no more than 10 pages using the JMLRformat You can find templates for this format athttp://www.jmlr.org/format/format.html. Theformat is also available within Overleaf.1. Title and author name2. Problem statement, including hypothesis, projecting how you expect each algorithm to perform3. Brief description of your experimental approach, including any assumptions made with your al-gorithms4. Presentation of the results of your experiments5. A discussion of the behavior of your algorithms, combined with any conclusions you can draw6. Summary7. References (Only required if you use a resource other than the course content.)"
   ]
  },
  {
   "cell_type": "markdown",
   "metadata": {},
   "source": [
    "## Data Import"
   ]
  },
  {
   "cell_type": "code",
   "execution_count": 1,
   "metadata": {},
   "outputs": [],
   "source": [
    "import warnings\n",
    "warnings.filterwarnings('ignore')\n",
    "%matplotlib inline\n",
    "\n",
    "# Imports \n",
    "import numpy as np\n",
    "import scipy.stats as stats\n",
    "# import seaborn as sns\n",
    "# import matplotlib.pyplot as plt\n",
    "import pandas as pd\n",
    "import random\n",
    "import math\n",
    "from random import seed\n",
    "from random import randrange\n",
    "import time\n",
    "import timeit\n"
   ]
  },
  {
   "cell_type": "code",
   "execution_count": 2,
   "metadata": {},
   "outputs": [],
   "source": [
    "#Load Data\n",
    "#Abalone Data\n",
    "Abalone = pd.read_csv(\"abalone.data\", sep = ',')\n",
    "Abalone.columns = [\"Sex\", \"Length\",\"Diameter\", \"Height\",\"WholeWeight\",\"ShuckedWeight\",\"VisceraWeight\",\"ShellWeight\", \"Rings\"]\n",
    "\n",
    "# ForestFire Data\n",
    "ForestFire = pd.read_csv(\"forestfires.data\", sep = ',')\n",
    "ForestFire.columns = [\"X_Cord\", \"Y_Cord\",\"Month\", \"Day\",\"FFMC\",\"DMC\",\"DC\",\"ISI\", \"Temp\", \"RH\", \"Wind\", \"Rain\", \"Area\"]\n",
    "\n",
    "Glass = pd.read_csv(\"glass.data\", sep = ',')\n",
    "Glass.columns = [\"ID\", \"RefractiveIndex\",\"Sodium\", \"Mag\",\"Alum\",\"Silicon\",\"K\",\"Calcium\", \"Barium\", \"Iron\", \"GlassType\"]\n",
    "\n",
    "HouseVote = pd.read_csv(\"house-votes-84.data\", sep = ',')\n",
    "HouseVote.columns = [\"Class\", \"Handicap\",\"Water\", \"Adoption\",\"Physician\", \"SalvadorAid\", \"ReligionInSchool\", \"SatelitteTestBan\", \"NicaraguanAid\",\"Missile\", \"Immigration\",\"CorpCutBack\",\"Education\",\"Sue\",\"Crime\",\"DutyFreeExport\",\"ExportAdmin\"]\n",
    "HouseVote = HouseVote[[\"Handicap\",\"Water\", \"Adoption\",\"Physician\", \"SalvadorAid\", \"ReligionInSchool\", \"SatelitteTestBan\", \"NicaraguanAid\",\"Missile\", \"Immigration\",\"CorpCutBack\",\"Education\",\"Sue\",\"Crime\",\"DutyFreeExport\",\"ExportAdmin\", \"Class\"]]\n",
    "\n",
    "Machine = pd.read_csv(\"machine.data\", sep = ',')\n",
    "Machine.columns = [\"Vendor\", \"Model\",\"MYCT\", \"MMIN\",\"MMAX\", \"CACH\", \"CHMIN\", \"CHMAX\", \"PRP\",\"ERP\"]\n",
    "Machine = Machine[[\"Model\",\"MYCT\", \"MMIN\",\"MMAX\", \"CACH\", \"CHMIN\", \"CHMAX\", \"PRP\",\"ERP\",\"Vendor\"]]\n",
    "\n",
    "Segmentation = pd.read_csv(\"segmentation.data\")\n",
    "#Segmentation.columns = [\"Region_COL\", \"Region_ROW\",\"SLD5\", \"SLD2\",\"VedgeMean\", \"VedgeSd\", \"HedgeMean\", \"HedgeSd\", \"IntensityMean\",\"rawredM\", \"rawblueM\", \"rawgreenM\",\"exredM\", \"exblueM\", \"exgreenM\", \"ValueM\", \"SatM\", \"HueM\"]\n",
    "Segmentation.to_csv('Segmentation.csv', header=False, index=False)\n",
    "SegmentationC = pd.read_csv(\"Segmentation.csv\")\n",
    "OldColumn = list(Segmentation.columns)\n",
    "Newcolumnw = ['REGION_CENTROID_COL','REGION_CENTROID_ROW','REGION_PIXEL_COUNT',\n",
    " 'SHORT_LINE_DENSITY_5',\n",
    " 'SHORT_LINE_DENSITY_2',\n",
    " 'VEDGE_MEAN',\n",
    " 'VEDGE_SD',\n",
    " 'HEDGE_MEAN',\n",
    " 'HEDGE_SD',\n",
    " 'INTENSITY_MEAN',\n",
    " 'RAWRED_MEAN',\n",
    " 'RAWBLUE_MEAN',\n",
    " 'RAWGREEN_MEAN',\n",
    " 'EXRED_MEAN',\n",
    " 'EXBLUE_MEAN',\n",
    " 'EXGREEN_MEAN',\n",
    " 'VALUE_MEAN',\n",
    " 'SATURATION_MEAN',\n",
    " 'HUE_MEAN']\n",
    "\n",
    "SegmentationC.columns = Newcolumnw"
   ]
  },
  {
   "cell_type": "markdown",
   "metadata": {},
   "source": [
    "## Data Clean Up"
   ]
  },
  {
   "cell_type": "code",
   "execution_count": 3,
   "metadata": {},
   "outputs": [],
   "source": [
    "def DropDeadData(Data):\n",
    "    NumberOfDataDropped = 0\n",
    "    DataColums = list(Data.columns)\n",
    "    for Attribute in DataColums:\n",
    "        for i in Data.query(''+Attribute+' == \"?\"').index:\n",
    "            Data=Data.drop(i)\n",
    "            NumberOfDataDropped=NumberOfDataDropped + 1\n",
    "    print(NumberOfDataDropped)\n",
    "\n",
    "def replace_Text(Data, Column):\n",
    "    j = 1 \n",
    "    for x in Column:\n",
    "        Data = Data.replace(x, j)\n",
    "        j = j+1 \n",
    "    return Data\n",
    "\n",
    "def shuffle_split_data(X,val=10):\n",
    "    arr_rand = np.random.rand(len(X))\n",
    "    split = arr_rand < np.percentile(arr_rand, val)\n",
    "\n",
    "    X_train = X[split]\n",
    "    X_test =  X[~split]\n",
    "\n",
    "    #print len(X_Train), len(X_Test)\n",
    "    return X_test,X_train"
   ]
  },
  {
   "cell_type": "code",
   "execution_count": 4,
   "metadata": {},
   "outputs": [],
   "source": [
    "########################################################   \n",
    "#Avalone Data Clean up\n",
    "########################################################\n",
    "conditions = [\n",
    "    (Abalone['Sex'] == \"I\"),\n",
    "    (Abalone['Sex'] == \"F\"),\n",
    "    (Abalone['Sex'] == \"M\")\n",
    "    ]\n",
    "\n",
    "# create a list of the values we want to assign for each condition\n",
    "values = [1, 2, 3]\n",
    "\n",
    "# create a new column and use np.select to assign values to it using our lists as arguments\n",
    "Abalone['Sex'] = np.select(conditions, values)\n"
   ]
  },
  {
   "cell_type": "code",
   "execution_count": 5,
   "metadata": {},
   "outputs": [],
   "source": [
    "########################################################   \n",
    "#House Vote Data Clean up\n",
    "########################################################\n",
    "conditions = [\n",
    "    (HouseVote['Class'] == \"democrat\"),\n",
    "    (HouseVote['Class'] == \"republican\")\n",
    "    ]\n",
    "\n",
    "# create a list of the values we want to assign for each condition\n",
    "values = [1, 2]\n",
    "\n",
    "# create a new column and use np.select to assign values to it using our lists as arguments\n",
    "HouseVote['Class'] = np.select(conditions, values)\n",
    "\n",
    "HouseVote = HouseVote.replace('y',1)\n",
    "HouseVote = HouseVote.replace('n',0)\n",
    "HouseVote = HouseVote.replace('?',2)"
   ]
  },
  {
   "cell_type": "code",
   "execution_count": 6,
   "metadata": {
    "scrolled": true
   },
   "outputs": [],
   "source": [
    "########################################################   \n",
    "#Machine Data Clean up\n",
    "########################################################\n",
    "Vendors = ['amdahl', 'apollo', 'basf', 'bti', 'burroughs', 'c.r.d', 'cdc',\n",
    "       'cambex', 'dec', 'dg', 'formation', 'four-phase', 'gould', 'hp',\n",
    "       'harris', 'honeywell', 'ibm', 'ipl', 'magnuson', 'microdata',\n",
    "       'nas', 'ncr', 'nixdorf', 'perkin-elmer', 'prime', 'siemens',\n",
    "       'sperry', 'sratus', 'wang']\n",
    "\n",
    "Models = ['470v/7', '470v/7a', '470v/7b', '470v/7c', '470v/b', '580-5840',\n",
    "       '580-5850', '580-5860', '580-5880', 'dn320', 'dn420', '7/65',\n",
    "       '7/68', '5000', '8000', 'b1955', 'b2900', 'b2925', 'b4955',\n",
    "       'b5900', 'b5920', 'b6900', 'b6925', '68/10-80', 'universe:2203t',\n",
    "       'universe:68', 'universe:68/05', 'universe:68/137',\n",
    "       'universe:68/37', 'cyber:170/750', 'cyber:170/760',\n",
    "       'cyber:170/815', 'cyber:170/825', 'cyber:170/835', 'cyber:170/845',\n",
    "       'omega:480-i', 'omega:480-ii', 'omega:480-iii', '1636-1',\n",
    "       '1636-10', '1641-1', '1641-11', '1651-1', 'decsys:10:1091',\n",
    "       'decsys:20:2060', 'microvax-1', 'vax:11/730', 'vax:11/750',\n",
    "       'vax:11/780', 'eclipse:c/350', 'eclipse:m/600', 'eclipse:mv/10000',\n",
    "       'eclipse:mv/4000', 'eclipse:mv/6000', 'eclipse:mv/8000',\n",
    "       'eclipse:mv/8000-ii', 'f4000/100', 'f4000/200', 'f4000/200ap',\n",
    "       'f4000/300', 'f4000/300ap', '2000/260', 'concept:32/8705',\n",
    "       'concept:32/8750', 'concept:32/8780', '3000/30', '3000/40',\n",
    "       '3000/44', '3000/48', '3000/64', '3000/88', '3000/iii', '100',\n",
    "       '300', '500', '600', '700', '80', '800', 'dps:6/35', 'dps:6/92',\n",
    "       'dps:6/96', 'dps:7/35', 'dps:7/45', 'dps:7/55', 'dps:7/65',\n",
    "       'dps:8/44', 'dps:8/49', 'dps:8/50', 'dps:8/52', 'dps:8/62',\n",
    "       'dps:8/20', '3033:s', '3033:u', '3081', '3081:d', '3083:b',\n",
    "       '3083:e', '370/125-2', '370/148', '370/158-3', '38/3', '38/4',\n",
    "       '38/5', '38/7', '38/8', '4321', '4331-1', '4331-11', '4331-2',\n",
    "       '4341', '4341-1', '4341-10', '4341-11', '4341-12', '4341-2',\n",
    "       '4341-9', '4361-4', '4361-5', '4381-1', '4381-2', '8130-a',\n",
    "       '8130-b', '8140', '4436', '4443', '4445', '4446', '4460', '4480',\n",
    "       'm80/30', 'm80/31', 'm80/32', 'm80/42', 'm80/43', 'm80/44',\n",
    "       'seq.ms/3200', 'as/3000', 'as/3000-n', 'as/5000', 'as/5000-e',\n",
    "       'as/5000-n', 'as/6130', 'as/6150', 'as/6620', 'as/6630', 'as/6650',\n",
    "       'as/7000', 'as/7000-n', 'as/8040', 'as/8050', 'as/8060',\n",
    "       'as/9000-dpc', 'as/9000-n', 'as/9040', 'as/9060', 'v8535:ii',\n",
    "       'v8545:ii', 'v8555:ii', 'v8565:ii', 'v8565:ii-e', 'v8575:ii',\n",
    "       'v8585:ii', 'v8595:ii', 'v8635', 'v8650', 'v8655', 'v8665',\n",
    "       'v8670', '8890/30', '8890/50', '8890/70', '3205', '3210', '3230',\n",
    "       '50-2250', '50-250-ii', '50-550-ii', '50-750-ii', '50-850-ii',\n",
    "       '7.521', '7.531', '7.536', '7.541', '7.551', '7.561', '7.865-2',\n",
    "       '7.870-2', '7.872-2', '7.875-2', '7.880-2', '7.881-2',\n",
    "       '1100/61-h1', '1100/81', '1100/82', '1100/83', '1100/84',\n",
    "       '1100/93', '1100/94', '80/3', '80/4', '80/5', '80/6', '80/8',\n",
    "       '90/80-model-3', '32', 'vs-100', 'vs-90']\n",
    "\n",
    "\n",
    "Machine = replace_Text(Machine, Vendors)   \n",
    "Machine = replace_Text(Machine, Models)  \n",
    "\n"
   ]
  },
  {
   "cell_type": "code",
   "execution_count": 7,
   "metadata": {},
   "outputs": [],
   "source": [
    "########################################################   \n",
    "#Forest Fire Data Clean up\n",
    "########################################################\n",
    "Days = ['mon', 'tue','wed', 'thu','fri', 'sat', 'sun']\n",
    "Months = ['jan','feb','mar', 'apr', 'may','jun', 'jul','aug', 'sep', 'oct','nov','dec']\n",
    "\n",
    "ForestFire = replace_Text(ForestFire, Days)\n",
    "ForestFire = replace_Text(ForestFire, Months)"
   ]
  },
  {
   "cell_type": "markdown",
   "metadata": {},
   "source": [
    "Split Data 90% for Training and 10% for testing. "
   ]
  },
  {
   "cell_type": "code",
   "execution_count": 8,
   "metadata": {},
   "outputs": [],
   "source": [
    "def shuffle_split_data(X,val=10):\n",
    "    arr_rand = np.random.rand(X.shape[0])\n",
    "    split = arr_rand < np.percentile(arr_rand, val)\n",
    "\n",
    "    X_train = X[split]\n",
    "    X_test =  X[~split]\n",
    "\n",
    "    #print len(X_Train), len(X_Test)\n",
    "    return X_test,X_train"
   ]
  },
  {
   "cell_type": "code",
   "execution_count": 9,
   "metadata": {},
   "outputs": [],
   "source": [
    "glass_x_train, glass_x_test = shuffle_split_data(Glass,10)\n",
    "votes_x_train, votes_x_test = shuffle_split_data(HouseVote,10)\n",
    "abalone_x_train, abalone_x_test = shuffle_split_data(Abalone,10)\n",
    "fires_x_train, fires_x_test = shuffle_split_data(ForestFire,10)\n",
    "machine_x_train, machine_x_test = shuffle_split_data(Machine,10)\n",
    "image_x_train, image_x_test = shuffle_split_data(SegmentationC,10)"
   ]
  },
  {
   "cell_type": "markdown",
   "metadata": {},
   "source": [
    "## K Nearest Neighbor"
   ]
  },
  {
   "cell_type": "code",
   "execution_count": 10,
   "metadata": {},
   "outputs": [],
   "source": [
    "# Transfer the dataframe to list\n",
    "AbaloneData = Abalone.values.tolist()\n",
    "ForestFireData = ForestFire.values.tolist()\n",
    "GlassData = Glass.values.tolist()\n",
    "HouseVoteData = HouseVote.values.tolist()\n",
    "MachineData = Machine.values.tolist()\n",
    "SegmentationCData = SegmentationC.values.tolist()\n"
   ]
  },
  {
   "cell_type": "code",
   "execution_count": 11,
   "metadata": {},
   "outputs": [],
   "source": [
    "# Evaluate an algorithm using a cross validation split\n",
    "def evaluate_algorithm(dataset, algorithm, n_folds, *args):\n",
    "    folds = cross_validation_split(dataset, n_folds)\n",
    "    scores = list()\n",
    "    for fold in folds:\n",
    "        train_set = list(folds)\n",
    "        train_set.remove(fold) #\n",
    "        train_set = sum(train_set, [])\n",
    "        test_set = list()\n",
    "        for row in fold:\n",
    "            row_copy = list(row)\n",
    "            test_set.append(row_copy)\n",
    "            row_copy[-1] = None\n",
    "        predicted = algorithm(train_set, test_set, *args)\n",
    "        actual = [row[-1] for row in fold]\n",
    "        accuracy = accuracy_metric(actual, predicted)\n",
    "        scores.append(accuracy)\n",
    "    return scores"
   ]
  },
  {
   "cell_type": "code",
   "execution_count": 12,
   "metadata": {},
   "outputs": [],
   "source": [
    "# Find the min and max values for each column\n",
    "def dataset_minmax(dataset):\n",
    "    minmax = list()\n",
    "    for i in range(len(dataset[0])):\n",
    "        col_values = [row[i] for row in dataset]\n",
    "        value_min = min(col_values)\n",
    "        value_max = max(col_values)\n",
    "        minmax.append([value_min, value_max])\n",
    "    return minmax\n",
    "\n",
    "# Rescale dataset columns to the range 0-1\n",
    "def normalize_dataset(dataset, minmax):\n",
    "    for row in dataset:\n",
    "        for i in range(len(row)):\n",
    "            row[i] = (row[i] - minmax[i][0]) / (minmax[i][1] - minmax[i][0])\n",
    "            \n",
    "# Calculate accuracy percentage\n",
    "def accuracy_metric(actual, predicted):\n",
    "    correct = 0\n",
    "    for i in range(len(actual)):\n",
    "        if actual[i] == predicted[i]:\n",
    "            correct += 1\n",
    "    return correct / float(len(actual)) * 100.0"
   ]
  },
  {
   "cell_type": "code",
   "execution_count": 13,
   "metadata": {},
   "outputs": [],
   "source": [
    "# Split a dataset into k folds\n",
    "def cross_validation_split(dataset, n_folds):\n",
    "    dataset_split = list()\n",
    "    dataset_copy = list(dataset)\n",
    "    fold_size = int(len(dataset) / n_folds)\n",
    "    for _ in range(n_folds):\n",
    "        fold = list()\n",
    "        while len(fold) < fold_size:\n",
    "            index = randrange(len(dataset_copy))\n",
    "            fold.append(dataset_copy.pop(index))\n",
    "        dataset_split.append(fold)\n",
    "    return dataset_split"
   ]
  },
  {
   "cell_type": "code",
   "execution_count": 14,
   "metadata": {},
   "outputs": [],
   "source": [
    "# Calculate the Euclidean distance between two vectors\n",
    "def euclidean_distance(row1, row2):\n",
    "    distance = 0.0\n",
    "    for i in range(len(row1)-1):\n",
    "        distance += (row1[i] - row2[i])**2\n",
    "    return math.sqrt(distance)"
   ]
  },
  {
   "cell_type": "code",
   "execution_count": 79,
   "metadata": {},
   "outputs": [],
   "source": [
    "# Locate the most similar neighbors\n",
    "def get_neighbors(train, test_row, num_neighbors):\n",
    "    distances = list()\n",
    "    for train_row in train:\n",
    "        dist = euclidean_distance(test_row, train_row)\n",
    "        distances.append((train_row, dist))\n",
    "    distances.sort(key=lambda tup: tup[1])\n",
    "    neighbors = list()\n",
    "    for i in range(num_neighbors):\n",
    "        neighbors.append(distances[i][0])\n",
    "#     print('Test Row')\n",
    "#     print(test_row)\n",
    "#     print('\\n')\n",
    "#     print('The Neighbors are:') \n",
    "#     print(neighbors)\n",
    "#     time.sleep(2)\n",
    "    return neighbors\n",
    " \n",
    "# Make a prediction with neighbors\n",
    "def predict_classification(train, test_row, num_neighbors):\n",
    "    neighbors = get_neighbors(train, test_row, num_neighbors)\n",
    "    output_values = [row[-1] for row in neighbors]\n",
    "    prediction = max(set(output_values), key=output_values.count)\n",
    "#     print('Prediction is : ')\n",
    "#     print(prediction)\n",
    "#     print('\\n')\n",
    "    return prediction\n",
    " \n",
    "# kNN Algorithm\n",
    "def k_nearest_neighbors(train, test, num_neighbors):\n",
    "    predictions = list()\n",
    "    for row in test:\n",
    "        output = predict_classification(train, row, num_neighbors)\n",
    "        predictions.append(output)\n",
    "    return(predictions)"
   ]
  },
  {
   "cell_type": "code",
   "execution_count": 16,
   "metadata": {},
   "outputs": [],
   "source": [
    "def FindBestK(till, Data):\n",
    "    Accuracy = 0\n",
    "    BestK = 0\n",
    "    for K in range(1,till):\n",
    "        n_folds = 5\n",
    "        scores = evaluate_algorithm(Data, k_nearest_neighbors, n_folds, K)\n",
    "        j = (sum(scores)/float(len(scores)))\n",
    "        if Accuracy <= j:\n",
    "            BestK = K\n",
    "            Accuracy = j\n",
    "        scores = 0\n",
    "    return BestK"
   ]
  },
  {
   "cell_type": "code",
   "execution_count": 17,
   "metadata": {},
   "outputs": [],
   "source": [
    "def WorstK(till, Data):\n",
    "    Accuracy = 100\n",
    "    BestK = 0\n",
    "    for K in range(1,till):\n",
    "        n_folds = 5\n",
    "        scores = evaluate_algorithm(Data, k_nearest_neighbors, n_folds, K)\n",
    "        j = (sum(scores)/float(len(scores)))\n",
    "        print(j)\n",
    "        if Accuracy >= j:\n",
    "            BestK = K\n",
    "            Accuracy = j\n",
    "        scores = 0\n",
    "    return BestK"
   ]
  },
  {
   "cell_type": "code",
   "execution_count": 18,
   "metadata": {
    "scrolled": true
   },
   "outputs": [],
   "source": [
    "#The constants have been placed after running this once\n",
    "# #Store the Best K\n",
    "# GlassBestK = FindBestK(6, GlassData)\n",
    "# FireBestK = FindBestK(10, ForestFireData)\n",
    "# AbaloneBestK = FindBestK(6, AbaloneData)\n",
    "# VoteBestK = FindBestK(7, HouseVoteData)\n",
    "# MachineBeskK = FindBestK(7, MachineData)\n",
    "# SegBestK = FindBestK(10, SegmentationCData)\n",
    "\n",
    "# #Store the Worst K\n",
    "# GlassWorstK = WorstK(10,GlassData)\n",
    "# FireWorstK = WorstK(10,ForestFireData)\n",
    "# AbaloneWorstK = WorstK(6,AbaloneData)\n",
    "# VoteWorstK = WorstK(7,HouseVoteData)\n",
    "# MachineWorstK = WorstK(7,MachineData)\n",
    "# SegWorstK = WorstK(10,SegmentationCData)"
   ]
  },
  {
   "cell_type": "code",
   "execution_count": 19,
   "metadata": {},
   "outputs": [],
   "source": [
    "#Constants Created Using the Function Above\n",
    "\n",
    "GlassBestK = 2\n",
    "FireBestK = 9\n",
    "AbaloneBestK = 5\n",
    "VoteBestK = 4\n",
    "MachineBeskK = 1\n",
    "SegBestK = 4\n",
    "\n",
    "GlassWorstK = 8\n",
    "FireWorstK = 1\n",
    "AbaloneWorstK = 1\n",
    "VoteWorstK = 2\n",
    "MachineWorstK = 6\n",
    "SegWorstK = 6\n",
    "\n",
    "# ENNTOP(HouseVote, 5, 7)"
   ]
  },
  {
   "cell_type": "code",
   "execution_count": 20,
   "metadata": {},
   "outputs": [],
   "source": [
    "AbaloneEditedData = Abalone.sort_values(by=['Rings'])"
   ]
  },
  {
   "cell_type": "code",
   "execution_count": 21,
   "metadata": {},
   "outputs": [],
   "source": [
    "# ENNTOP(AbaloneEditedData, 5, 1)"
   ]
  },
  {
   "cell_type": "code",
   "execution_count": 78,
   "metadata": {},
   "outputs": [
    {
     "name": "stdout",
     "output_type": "stream",
     "text": [
      "Test Row\n",
      "[202.0, 1.51653, 11.95, 0.0, 1.19, 75.18, 2.7, 8.93, 0.0, 0.0, None]\n",
      "\n",
      "\n",
      "The Neighbors are:\n",
      "[[203.0, 1.51514, 14.85, 0.0, 2.42, 73.72, 0.0, 8.39, 0.56, 0.0, 7.0], [201.0, 1.51508, 15.15, 0.0, 2.25, 73.5, 0.0, 8.34, 0.63, 0.0, 7.0]]\n",
      "Prediction is : \n",
      "7.0\n",
      "\n",
      "\n",
      "Test Row\n",
      "[175.0, 1.5205799999999998, 12.85, 1.61, 2.17, 72.18, 0.76, 9.7, 0.24, 0.51, None]\n",
      "\n",
      "\n",
      "The Neighbors are:\n",
      "[[178.0, 1.51937, 13.79, 2.41, 1.19, 72.76, 0.0, 9.77, 0.0, 0.0, 6.0], [179.0, 1.51829, 14.46, 2.24, 1.62, 72.38, 0.0, 9.26, 0.0, 0.0, 6.0]]\n"
     ]
    },
    {
     "ename": "KeyboardInterrupt",
     "evalue": "",
     "output_type": "error",
     "traceback": [
      "\u001b[0;31m---------------------------------------------------------------------------\u001b[0m",
      "\u001b[0;31mKeyboardInterrupt\u001b[0m                         Traceback (most recent call last)",
      "\u001b[0;32m<ipython-input-78-68cdc7e098c7>\u001b[0m in \u001b[0;36m<module>\u001b[0;34m\u001b[0m\n\u001b[1;32m      3\u001b[0m \u001b[0mnum_neighbors\u001b[0m \u001b[0;34m=\u001b[0m \u001b[0mGlassBestK\u001b[0m\u001b[0;34m\u001b[0m\u001b[0;34m\u001b[0m\u001b[0m\n\u001b[1;32m      4\u001b[0m \u001b[0mstart\u001b[0m \u001b[0;34m=\u001b[0m \u001b[0mtime\u001b[0m\u001b[0;34m.\u001b[0m\u001b[0mtime\u001b[0m\u001b[0;34m(\u001b[0m\u001b[0;34m)\u001b[0m\u001b[0;34m\u001b[0m\u001b[0;34m\u001b[0m\u001b[0m\n\u001b[0;32m----> 5\u001b[0;31m \u001b[0mscores\u001b[0m \u001b[0;34m=\u001b[0m \u001b[0mevaluate_algorithm\u001b[0m\u001b[0;34m(\u001b[0m\u001b[0mGlassData\u001b[0m\u001b[0;34m,\u001b[0m \u001b[0mk_nearest_neighbors\u001b[0m\u001b[0;34m,\u001b[0m \u001b[0mn_folds\u001b[0m\u001b[0;34m,\u001b[0m \u001b[0mnum_neighbors\u001b[0m\u001b[0;34m)\u001b[0m\u001b[0;34m\u001b[0m\u001b[0;34m\u001b[0m\u001b[0m\n\u001b[0m\u001b[1;32m      6\u001b[0m \u001b[0mend\u001b[0m \u001b[0;34m=\u001b[0m \u001b[0mtime\u001b[0m\u001b[0;34m.\u001b[0m\u001b[0mtime\u001b[0m\u001b[0;34m(\u001b[0m\u001b[0;34m)\u001b[0m\u001b[0;34m\u001b[0m\u001b[0;34m\u001b[0m\u001b[0m\n\u001b[1;32m      7\u001b[0m \u001b[0mprint\u001b[0m\u001b[0;34m(\u001b[0m\u001b[0;34m'Scores: %s'\u001b[0m \u001b[0;34m%\u001b[0m \u001b[0mscores\u001b[0m\u001b[0;34m)\u001b[0m\u001b[0;34m\u001b[0m\u001b[0;34m\u001b[0m\u001b[0m\n",
      "\u001b[0;32m<ipython-input-11-490d85ee7451>\u001b[0m in \u001b[0;36mevaluate_algorithm\u001b[0;34m(dataset, algorithm, n_folds, *args)\u001b[0m\n\u001b[1;32m     12\u001b[0m             \u001b[0mtest_set\u001b[0m\u001b[0;34m.\u001b[0m\u001b[0mappend\u001b[0m\u001b[0;34m(\u001b[0m\u001b[0mrow_copy\u001b[0m\u001b[0;34m)\u001b[0m\u001b[0;34m\u001b[0m\u001b[0;34m\u001b[0m\u001b[0m\n\u001b[1;32m     13\u001b[0m             \u001b[0mrow_copy\u001b[0m\u001b[0;34m[\u001b[0m\u001b[0;34m-\u001b[0m\u001b[0;36m1\u001b[0m\u001b[0;34m]\u001b[0m \u001b[0;34m=\u001b[0m \u001b[0;32mNone\u001b[0m\u001b[0;34m\u001b[0m\u001b[0;34m\u001b[0m\u001b[0m\n\u001b[0;32m---> 14\u001b[0;31m         \u001b[0mpredicted\u001b[0m \u001b[0;34m=\u001b[0m \u001b[0malgorithm\u001b[0m\u001b[0;34m(\u001b[0m\u001b[0mtrain_set\u001b[0m\u001b[0;34m,\u001b[0m \u001b[0mtest_set\u001b[0m\u001b[0;34m,\u001b[0m \u001b[0;34m*\u001b[0m\u001b[0margs\u001b[0m\u001b[0;34m)\u001b[0m\u001b[0;34m\u001b[0m\u001b[0;34m\u001b[0m\u001b[0m\n\u001b[0m\u001b[1;32m     15\u001b[0m         \u001b[0mactual\u001b[0m \u001b[0;34m=\u001b[0m \u001b[0;34m[\u001b[0m\u001b[0mrow\u001b[0m\u001b[0;34m[\u001b[0m\u001b[0;34m-\u001b[0m\u001b[0;36m1\u001b[0m\u001b[0;34m]\u001b[0m \u001b[0;32mfor\u001b[0m \u001b[0mrow\u001b[0m \u001b[0;32min\u001b[0m \u001b[0mfold\u001b[0m\u001b[0;34m]\u001b[0m\u001b[0;34m\u001b[0m\u001b[0;34m\u001b[0m\u001b[0m\n\u001b[1;32m     16\u001b[0m         \u001b[0maccuracy\u001b[0m \u001b[0;34m=\u001b[0m \u001b[0maccuracy_metric\u001b[0m\u001b[0;34m(\u001b[0m\u001b[0mactual\u001b[0m\u001b[0;34m,\u001b[0m \u001b[0mpredicted\u001b[0m\u001b[0;34m)\u001b[0m\u001b[0;34m\u001b[0m\u001b[0;34m\u001b[0m\u001b[0m\n",
      "\u001b[0;32m<ipython-input-77-8007f2006efa>\u001b[0m in \u001b[0;36mk_nearest_neighbors\u001b[0;34m(train, test, num_neighbors)\u001b[0m\n\u001b[1;32m     31\u001b[0m     \u001b[0mpredictions\u001b[0m \u001b[0;34m=\u001b[0m \u001b[0mlist\u001b[0m\u001b[0;34m(\u001b[0m\u001b[0;34m)\u001b[0m\u001b[0;34m\u001b[0m\u001b[0;34m\u001b[0m\u001b[0m\n\u001b[1;32m     32\u001b[0m     \u001b[0;32mfor\u001b[0m \u001b[0mrow\u001b[0m \u001b[0;32min\u001b[0m \u001b[0mtest\u001b[0m\u001b[0;34m:\u001b[0m\u001b[0;34m\u001b[0m\u001b[0;34m\u001b[0m\u001b[0m\n\u001b[0;32m---> 33\u001b[0;31m         \u001b[0moutput\u001b[0m \u001b[0;34m=\u001b[0m \u001b[0mpredict_classification\u001b[0m\u001b[0;34m(\u001b[0m\u001b[0mtrain\u001b[0m\u001b[0;34m,\u001b[0m \u001b[0mrow\u001b[0m\u001b[0;34m,\u001b[0m \u001b[0mnum_neighbors\u001b[0m\u001b[0;34m)\u001b[0m\u001b[0;34m\u001b[0m\u001b[0;34m\u001b[0m\u001b[0m\n\u001b[0m\u001b[1;32m     34\u001b[0m         \u001b[0mpredictions\u001b[0m\u001b[0;34m.\u001b[0m\u001b[0mappend\u001b[0m\u001b[0;34m(\u001b[0m\u001b[0moutput\u001b[0m\u001b[0;34m)\u001b[0m\u001b[0;34m\u001b[0m\u001b[0;34m\u001b[0m\u001b[0m\n\u001b[1;32m     35\u001b[0m     \u001b[0;32mreturn\u001b[0m\u001b[0;34m(\u001b[0m\u001b[0mpredictions\u001b[0m\u001b[0;34m)\u001b[0m\u001b[0;34m\u001b[0m\u001b[0;34m\u001b[0m\u001b[0m\n",
      "\u001b[0;32m<ipython-input-77-8007f2006efa>\u001b[0m in \u001b[0;36mpredict_classification\u001b[0;34m(train, test_row, num_neighbors)\u001b[0m\n\u001b[1;32m     19\u001b[0m \u001b[0;31m# Make a prediction with neighbors\u001b[0m\u001b[0;34m\u001b[0m\u001b[0;34m\u001b[0m\u001b[0;34m\u001b[0m\u001b[0m\n\u001b[1;32m     20\u001b[0m \u001b[0;32mdef\u001b[0m \u001b[0mpredict_classification\u001b[0m\u001b[0;34m(\u001b[0m\u001b[0mtrain\u001b[0m\u001b[0;34m,\u001b[0m \u001b[0mtest_row\u001b[0m\u001b[0;34m,\u001b[0m \u001b[0mnum_neighbors\u001b[0m\u001b[0;34m)\u001b[0m\u001b[0;34m:\u001b[0m\u001b[0;34m\u001b[0m\u001b[0;34m\u001b[0m\u001b[0m\n\u001b[0;32m---> 21\u001b[0;31m     \u001b[0mneighbors\u001b[0m \u001b[0;34m=\u001b[0m \u001b[0mget_neighbors\u001b[0m\u001b[0;34m(\u001b[0m\u001b[0mtrain\u001b[0m\u001b[0;34m,\u001b[0m \u001b[0mtest_row\u001b[0m\u001b[0;34m,\u001b[0m \u001b[0mnum_neighbors\u001b[0m\u001b[0;34m)\u001b[0m\u001b[0;34m\u001b[0m\u001b[0;34m\u001b[0m\u001b[0m\n\u001b[0m\u001b[1;32m     22\u001b[0m     \u001b[0moutput_values\u001b[0m \u001b[0;34m=\u001b[0m \u001b[0;34m[\u001b[0m\u001b[0mrow\u001b[0m\u001b[0;34m[\u001b[0m\u001b[0;34m-\u001b[0m\u001b[0;36m1\u001b[0m\u001b[0;34m]\u001b[0m \u001b[0;32mfor\u001b[0m \u001b[0mrow\u001b[0m \u001b[0;32min\u001b[0m \u001b[0mneighbors\u001b[0m\u001b[0;34m]\u001b[0m\u001b[0;34m\u001b[0m\u001b[0;34m\u001b[0m\u001b[0m\n\u001b[1;32m     23\u001b[0m     \u001b[0mprediction\u001b[0m \u001b[0;34m=\u001b[0m \u001b[0mmax\u001b[0m\u001b[0;34m(\u001b[0m\u001b[0mset\u001b[0m\u001b[0;34m(\u001b[0m\u001b[0moutput_values\u001b[0m\u001b[0;34m)\u001b[0m\u001b[0;34m,\u001b[0m \u001b[0mkey\u001b[0m\u001b[0;34m=\u001b[0m\u001b[0moutput_values\u001b[0m\u001b[0;34m.\u001b[0m\u001b[0mcount\u001b[0m\u001b[0;34m)\u001b[0m\u001b[0;34m\u001b[0m\u001b[0;34m\u001b[0m\u001b[0m\n",
      "\u001b[0;32m<ipython-input-77-8007f2006efa>\u001b[0m in \u001b[0;36mget_neighbors\u001b[0;34m(train, test_row, num_neighbors)\u001b[0m\n\u001b[1;32m     14\u001b[0m     \u001b[0mprint\u001b[0m\u001b[0;34m(\u001b[0m\u001b[0;34m'The Neighbors are:'\u001b[0m\u001b[0;34m)\u001b[0m\u001b[0;34m\u001b[0m\u001b[0;34m\u001b[0m\u001b[0m\n\u001b[1;32m     15\u001b[0m     \u001b[0mprint\u001b[0m\u001b[0;34m(\u001b[0m\u001b[0mneighbors\u001b[0m\u001b[0;34m)\u001b[0m\u001b[0;34m\u001b[0m\u001b[0;34m\u001b[0m\u001b[0m\n\u001b[0;32m---> 16\u001b[0;31m     \u001b[0mtime\u001b[0m\u001b[0;34m.\u001b[0m\u001b[0msleep\u001b[0m\u001b[0;34m(\u001b[0m\u001b[0;36m2\u001b[0m\u001b[0;34m)\u001b[0m\u001b[0;34m\u001b[0m\u001b[0;34m\u001b[0m\u001b[0m\n\u001b[0m\u001b[1;32m     17\u001b[0m     \u001b[0;32mreturn\u001b[0m \u001b[0mneighbors\u001b[0m\u001b[0;34m\u001b[0m\u001b[0;34m\u001b[0m\u001b[0m\n\u001b[1;32m     18\u001b[0m \u001b[0;34m\u001b[0m\u001b[0m\n",
      "\u001b[0;31mKeyboardInterrupt\u001b[0m: "
     ]
    }
   ],
   "source": [
    "seed(999)\n",
    "n_folds = 5\n",
    "num_neighbors = GlassBestK\n",
    "start = time.time()\n",
    "scores = evaluate_algorithm(GlassData, k_nearest_neighbors, n_folds, num_neighbors)\n",
    "end = time.time()\n",
    "print('Scores: %s' % scores)\n",
    "print('Mean Accuracy: %.3f%%' % (sum(scores)/float(len(scores))))\n",
    "RegularGlassTime = end - start"
   ]
  },
  {
   "cell_type": "code",
   "execution_count": 23,
   "metadata": {},
   "outputs": [
    {
     "name": "stdout",
     "output_type": "stream",
     "text": [
      "Scores: [23.832335329341316, 21.55688622754491, 22.395209580838323, 23.353293413173652, 28.023952095808387]\n",
      "Mean Accuracy: 23.832%\n"
     ]
    }
   ],
   "source": [
    "seed(999)\n",
    "n_folds = 5\n",
    "num_neighbors = AbaloneBestK\n",
    "start = time.time()\n",
    "scores = evaluate_algorithm(AbaloneData, k_nearest_neighbors, n_folds, num_neighbors)\n",
    "end = time.time()\n",
    "print('Scores: %s' % scores)\n",
    "print('Mean Accuracy: %.3f%%' % (sum(scores)/float(len(scores))))\n",
    "RegularAbaloneTime = end - start"
   ]
  },
  {
   "cell_type": "code",
   "execution_count": 24,
   "metadata": {
    "scrolled": true
   },
   "outputs": [
    {
     "name": "stdout",
     "output_type": "stream",
     "text": [
      "Scores: [52.42718446601942, 55.33980582524271, 38.83495145631068, 43.689320388349515, 42.71844660194174]\n",
      "Mean Accuracy: 46.602%\n"
     ]
    }
   ],
   "source": [
    "seed(900)\n",
    "n_folds = 5\n",
    "num_neighbors = FireBestK\n",
    "start = time.time()\n",
    "scores = evaluate_algorithm(ForestFireData, k_nearest_neighbors, n_folds, num_neighbors)\n",
    "end = time.time()\n",
    "print('Scores: %s' % scores)\n",
    "print('Mean Accuracy: %.3f%%' % (sum(scores)/float(len(scores))))\n",
    "\n",
    "RegularFireTime = end - start"
   ]
  },
  {
   "cell_type": "code",
   "execution_count": 25,
   "metadata": {
    "scrolled": true
   },
   "outputs": [
    {
     "name": "stdout",
     "output_type": "stream",
     "text": [
      "Scores: [93.02325581395348, 94.18604651162791, 90.69767441860465, 91.86046511627907, 91.86046511627907]\n",
      "Mean Accuracy: 92.326%\n"
     ]
    }
   ],
   "source": [
    "n_folds = 5\n",
    "num_neighbors = VoteBestK\n",
    "start = time.time()\n",
    "scores = evaluate_algorithm(HouseVoteData, k_nearest_neighbors, n_folds, num_neighbors)\n",
    "end = time.time()\n",
    "print('Scores: %s' % scores)\n",
    "print('Mean Accuracy: %.3f%%' % (sum(scores)/float(len(scores))))\n",
    "\n",
    "RegularVoteTime = end - start"
   ]
  },
  {
   "cell_type": "code",
   "execution_count": 26,
   "metadata": {},
   "outputs": [
    {
     "name": "stdout",
     "output_type": "stream",
     "text": [
      "Scores: [41.46341463414634, 60.97560975609756, 34.146341463414636, 46.34146341463415, 56.09756097560976]\n",
      "Mean Accuracy: 47.805%\n"
     ]
    }
   ],
   "source": [
    "n_folds = 5\n",
    "num_neighbors = MachineBeskK\n",
    "start = time.time()\n",
    "scores = evaluate_algorithm(MachineData, k_nearest_neighbors, n_folds, num_neighbors)\n",
    "end = time.time()\n",
    "print('Scores: %s' % scores)\n",
    "print('Mean Accuracy: %.3f%%' % (sum(scores)/float(len(scores))))\n",
    "\n",
    "RegularMachineTime = end - start"
   ]
  },
  {
   "cell_type": "code",
   "execution_count": 27,
   "metadata": {
    "scrolled": false
   },
   "outputs": [
    {
     "name": "stdout",
     "output_type": "stream",
     "text": [
      "Scores: [2.4390243902439024, 0.0, 0.0, 7.317073170731707, 7.317073170731707]\n",
      "Mean Accuracy: 3.415%\n"
     ]
    }
   ],
   "source": [
    "n_folds = 5\n",
    "num_neighbors = SegBestK\n",
    "start = time.time()\n",
    "scores = evaluate_algorithm(SegmentationCData, k_nearest_neighbors, n_folds, num_neighbors)\n",
    "end = time.time()\n",
    "print('Scores: %s' % scores)\n",
    "print('Mean Accuracy: %.3f%%' % (sum(scores)/float(len(scores))))\n",
    "\n",
    "RegularSegTime = end - start"
   ]
  },
  {
   "cell_type": "markdown",
   "metadata": {},
   "source": [
    "### Edited Nearest Neighbor"
   ]
  },
  {
   "cell_type": "code",
   "execution_count": 61,
   "metadata": {
    "scrolled": false
   },
   "outputs": [],
   "source": [
    "# Make a classification prediction with neighbors\n",
    "def predict_classification_edited(train, test_row, num_neighbors):\n",
    "    neighbors = get_neighbors(train, test_row, num_neighbors)\n",
    "    output_values = [row[-1] for row in neighbors]\n",
    "    prediction = max(set(output_values), key=output_values.count)\n",
    "    return prediction\n",
    "\n",
    "def EditedKNN(PDDataset, K):\n",
    "    J = 0\n",
    "    K = 0\n",
    "    DoneDropping = True\n",
    "    while(DoneDropping):\n",
    "        K = K+1\n",
    "        J = 0\n",
    "        DataList = PDDataset.values.tolist()\n",
    "        PrviousJ = len(DataList)\n",
    "#         print('Perevios J : '+ str(PrviousJ))\n",
    "        for x in range(len(DataList)):\n",
    "            prediction = predict_classification_edited(DataList, DataList[x], K)\n",
    "            if DataList[x][-1] != prediction:\n",
    "                PDDataset = PDDataset.drop(index = x)\n",
    "                J = J + 1\n",
    "        print(J)\n",
    "        if J < 1:\n",
    "            DoneDropping = False    \n",
    "        PDDataset = PDDataset.reset_index(drop=True)\n",
    "                \n",
    "    return PDDataset.values.tolist()\n",
    "\n",
    "\n",
    "def ENNTOP(DataSet, Bestk, WorstK):\n",
    "    EditedKNNData = EditedKNN(DataSet, WorstK)\n",
    "    n_folds = 5\n",
    "    num_neighbors = Bestk\n",
    "    start = time.time()\n",
    "    scores = evaluate_algorithm(EditedKNNData, k_nearest_neighbors, n_folds, num_neighbors)\n",
    "    end = time.time()\n",
    "    print('Scores: %s' % scores)\n",
    "    print('Mean Accuracy: %.3f%%' % (sum(scores)/float(len(scores))))\n",
    "    Time = end - start\n",
    "    print(Time)"
   ]
  },
  {
   "cell_type": "code",
   "execution_count": 80,
   "metadata": {},
   "outputs": [
    {
     "data": {
      "text/html": [
       "<div>\n",
       "<style scoped>\n",
       "    .dataframe tbody tr th:only-of-type {\n",
       "        vertical-align: middle;\n",
       "    }\n",
       "\n",
       "    .dataframe tbody tr th {\n",
       "        vertical-align: top;\n",
       "    }\n",
       "\n",
       "    .dataframe thead th {\n",
       "        text-align: right;\n",
       "    }\n",
       "</style>\n",
       "<table border=\"1\" class=\"dataframe\">\n",
       "  <thead>\n",
       "    <tr style=\"text-align: right;\">\n",
       "      <th></th>\n",
       "      <th>X_Cord</th>\n",
       "      <th>Y_Cord</th>\n",
       "      <th>Month</th>\n",
       "      <th>Day</th>\n",
       "      <th>FFMC</th>\n",
       "      <th>DMC</th>\n",
       "      <th>DC</th>\n",
       "      <th>ISI</th>\n",
       "      <th>Temp</th>\n",
       "      <th>RH</th>\n",
       "      <th>Wind</th>\n",
       "      <th>Rain</th>\n",
       "      <th>Area</th>\n",
       "    </tr>\n",
       "  </thead>\n",
       "  <tbody>\n",
       "    <tr>\n",
       "      <th>count</th>\n",
       "      <td>517.000000</td>\n",
       "      <td>517.000000</td>\n",
       "      <td>517.000000</td>\n",
       "      <td>517.000000</td>\n",
       "      <td>517.000000</td>\n",
       "      <td>517.000000</td>\n",
       "      <td>517.000000</td>\n",
       "      <td>517.000000</td>\n",
       "      <td>517.000000</td>\n",
       "      <td>517.000000</td>\n",
       "      <td>517.000000</td>\n",
       "      <td>517.000000</td>\n",
       "      <td>517.000000</td>\n",
       "    </tr>\n",
       "    <tr>\n",
       "      <th>mean</th>\n",
       "      <td>4.669246</td>\n",
       "      <td>4.299807</td>\n",
       "      <td>7.475822</td>\n",
       "      <td>4.259188</td>\n",
       "      <td>90.644681</td>\n",
       "      <td>110.872340</td>\n",
       "      <td>547.940039</td>\n",
       "      <td>9.021663</td>\n",
       "      <td>18.889168</td>\n",
       "      <td>44.288201</td>\n",
       "      <td>4.017602</td>\n",
       "      <td>0.021663</td>\n",
       "      <td>12.847292</td>\n",
       "    </tr>\n",
       "    <tr>\n",
       "      <th>std</th>\n",
       "      <td>2.313778</td>\n",
       "      <td>1.229900</td>\n",
       "      <td>2.275990</td>\n",
       "      <td>2.072929</td>\n",
       "      <td>5.520111</td>\n",
       "      <td>64.046482</td>\n",
       "      <td>248.066192</td>\n",
       "      <td>4.559477</td>\n",
       "      <td>5.806625</td>\n",
       "      <td>16.317469</td>\n",
       "      <td>1.791653</td>\n",
       "      <td>0.295959</td>\n",
       "      <td>63.655818</td>\n",
       "    </tr>\n",
       "    <tr>\n",
       "      <th>min</th>\n",
       "      <td>1.000000</td>\n",
       "      <td>2.000000</td>\n",
       "      <td>1.000000</td>\n",
       "      <td>1.000000</td>\n",
       "      <td>18.700000</td>\n",
       "      <td>1.100000</td>\n",
       "      <td>7.900000</td>\n",
       "      <td>0.000000</td>\n",
       "      <td>2.200000</td>\n",
       "      <td>15.000000</td>\n",
       "      <td>0.400000</td>\n",
       "      <td>0.000000</td>\n",
       "      <td>0.000000</td>\n",
       "    </tr>\n",
       "    <tr>\n",
       "      <th>25%</th>\n",
       "      <td>3.000000</td>\n",
       "      <td>4.000000</td>\n",
       "      <td>7.000000</td>\n",
       "      <td>2.000000</td>\n",
       "      <td>90.200000</td>\n",
       "      <td>68.600000</td>\n",
       "      <td>437.700000</td>\n",
       "      <td>6.500000</td>\n",
       "      <td>15.500000</td>\n",
       "      <td>33.000000</td>\n",
       "      <td>2.700000</td>\n",
       "      <td>0.000000</td>\n",
       "      <td>0.000000</td>\n",
       "    </tr>\n",
       "    <tr>\n",
       "      <th>50%</th>\n",
       "      <td>4.000000</td>\n",
       "      <td>4.000000</td>\n",
       "      <td>8.000000</td>\n",
       "      <td>5.000000</td>\n",
       "      <td>91.600000</td>\n",
       "      <td>108.300000</td>\n",
       "      <td>664.200000</td>\n",
       "      <td>8.400000</td>\n",
       "      <td>19.300000</td>\n",
       "      <td>42.000000</td>\n",
       "      <td>4.000000</td>\n",
       "      <td>0.000000</td>\n",
       "      <td>0.520000</td>\n",
       "    </tr>\n",
       "    <tr>\n",
       "      <th>75%</th>\n",
       "      <td>7.000000</td>\n",
       "      <td>5.000000</td>\n",
       "      <td>9.000000</td>\n",
       "      <td>6.000000</td>\n",
       "      <td>92.900000</td>\n",
       "      <td>142.400000</td>\n",
       "      <td>713.900000</td>\n",
       "      <td>10.800000</td>\n",
       "      <td>22.800000</td>\n",
       "      <td>53.000000</td>\n",
       "      <td>4.900000</td>\n",
       "      <td>0.000000</td>\n",
       "      <td>6.570000</td>\n",
       "    </tr>\n",
       "    <tr>\n",
       "      <th>max</th>\n",
       "      <td>9.000000</td>\n",
       "      <td>9.000000</td>\n",
       "      <td>12.000000</td>\n",
       "      <td>7.000000</td>\n",
       "      <td>96.200000</td>\n",
       "      <td>291.300000</td>\n",
       "      <td>860.600000</td>\n",
       "      <td>56.100000</td>\n",
       "      <td>33.300000</td>\n",
       "      <td>100.000000</td>\n",
       "      <td>9.400000</td>\n",
       "      <td>6.400000</td>\n",
       "      <td>1090.840000</td>\n",
       "    </tr>\n",
       "  </tbody>\n",
       "</table>\n",
       "</div>"
      ],
      "text/plain": [
       "           X_Cord      Y_Cord       Month         Day        FFMC         DMC  \\\n",
       "count  517.000000  517.000000  517.000000  517.000000  517.000000  517.000000   \n",
       "mean     4.669246    4.299807    7.475822    4.259188   90.644681  110.872340   \n",
       "std      2.313778    1.229900    2.275990    2.072929    5.520111   64.046482   \n",
       "min      1.000000    2.000000    1.000000    1.000000   18.700000    1.100000   \n",
       "25%      3.000000    4.000000    7.000000    2.000000   90.200000   68.600000   \n",
       "50%      4.000000    4.000000    8.000000    5.000000   91.600000  108.300000   \n",
       "75%      7.000000    5.000000    9.000000    6.000000   92.900000  142.400000   \n",
       "max      9.000000    9.000000   12.000000    7.000000   96.200000  291.300000   \n",
       "\n",
       "               DC         ISI        Temp          RH        Wind        Rain  \\\n",
       "count  517.000000  517.000000  517.000000  517.000000  517.000000  517.000000   \n",
       "mean   547.940039    9.021663   18.889168   44.288201    4.017602    0.021663   \n",
       "std    248.066192    4.559477    5.806625   16.317469    1.791653    0.295959   \n",
       "min      7.900000    0.000000    2.200000   15.000000    0.400000    0.000000   \n",
       "25%    437.700000    6.500000   15.500000   33.000000    2.700000    0.000000   \n",
       "50%    664.200000    8.400000   19.300000   42.000000    4.000000    0.000000   \n",
       "75%    713.900000   10.800000   22.800000   53.000000    4.900000    0.000000   \n",
       "max    860.600000   56.100000   33.300000  100.000000    9.400000    6.400000   \n",
       "\n",
       "              Area  \n",
       "count   517.000000  \n",
       "mean     12.847292  \n",
       "std      63.655818  \n",
       "min       0.000000  \n",
       "25%       0.000000  \n",
       "50%       0.520000  \n",
       "75%       6.570000  \n",
       "max    1090.840000  "
      ]
     },
     "execution_count": 80,
     "metadata": {},
     "output_type": "execute_result"
    }
   ],
   "source": [
    "ForestFire.describe()"
   ]
  },
  {
   "cell_type": "code",
   "execution_count": 81,
   "metadata": {},
   "outputs": [
    {
     "name": "stdout",
     "output_type": "stream",
     "text": [
      "9\n",
      "159\n",
      "68\n",
      "25\n",
      "10\n",
      "1\n",
      "0\n"
     ]
    },
    {
     "data": {
      "text/plain": [
       "245"
      ]
     },
     "execution_count": 81,
     "metadata": {},
     "output_type": "execute_result"
    }
   ],
   "source": [
    "# This is to Show ENN\n",
    "MachineEditedKNN = EditedKNN(ForestFire, 7)\n",
    "len(MachineEditedKNN)"
   ]
  },
  {
   "cell_type": "code",
   "execution_count": 29,
   "metadata": {},
   "outputs": [
    {
     "name": "stdout",
     "output_type": "stream",
     "text": [
      "101.102046251297\n",
      "1.715505838394165\n",
      "1.7842471599578857\n",
      "0.28403520584106445\n",
      "0.37105655670166016\n"
     ]
    }
   ],
   "source": [
    "print(RegularAbaloneTime)\n",
    "print(RegularFireTime)\n",
    "print(RegularVoteTime)\n",
    "print(RegularMachineTime)\n",
    "print(RegularSegTime)"
   ]
  },
  {
   "cell_type": "code",
   "execution_count": 62,
   "metadata": {},
   "outputs": [
    {
     "name": "stdout",
     "output_type": "stream",
     "text": [
      "0\n",
      "Scores: [34.146341463414636, 56.09756097560976, 48.78048780487805, 43.90243902439025, 43.90243902439025]\n",
      "Mean Accuracy: 45.366%\n"
     ]
    }
   ],
   "source": [
    "MachineEditedKNN = EditedKNN(Machine, 7)\n",
    "\n",
    "n_folds = 5\n",
    "num_neighbors = 1\n",
    "scores = evaluate_algorithm(MachineEditedKNN, k_nearest_neighbors, n_folds, num_neighbors)\n",
    "print('Scores: %s' % scores)\n",
    "print('Mean Accuracy: %.3f%%' % (sum(scores)/float(len(scores))))"
   ]
  },
  {
   "cell_type": "code",
   "execution_count": 31,
   "metadata": {},
   "outputs": [
    {
     "name": "stdout",
     "output_type": "stream",
     "text": [
      "Scores: [23.233532934131738, 20.838323353293415, 22.51497005988024, 24.311377245508982, 24.910179640718564]\n",
      "Mean Accuracy: 23.162%\n"
     ]
    }
   ],
   "source": [
    "AbaloneDataEditedKNN = EditedKNN(Abalone, 7)\n",
    "\n",
    "n_folds = 5\n",
    "num_neighbors = 5\n",
    "scores = evaluate_algorithm(AbaloneDataEditedKNN, k_nearest_neighbors, n_folds, num_neighbors)\n",
    "print('Scores: %s' % scores)\n",
    "print('Mean Accuracy: %.3f%%' % (sum(scores)/float(len(scores))))"
   ]
  },
  {
   "cell_type": "code",
   "execution_count": 32,
   "metadata": {},
   "outputs": [
    {
     "name": "stdout",
     "output_type": "stream",
     "text": [
      "Scores: [100.0, 100.0, 100.0, 100.0, 100.0]\n",
      "Mean Accuracy: 100.000%\n"
     ]
    }
   ],
   "source": [
    "ForestFireEditedKNN = EditedKNN(ForestFire, 7)\n",
    "\n",
    "n_folds = 5\n",
    "num_neighbors = 9\n",
    "scores = evaluate_algorithm(ForestFireEditedKNN, k_nearest_neighbors, n_folds, num_neighbors)\n",
    "print('Scores: %s' % scores)\n",
    "print('Mean Accuracy: %.3f%%' % (sum(scores)/float(len(scores))))"
   ]
  },
  {
   "cell_type": "code",
   "execution_count": 33,
   "metadata": {},
   "outputs": [
    {
     "name": "stdout",
     "output_type": "stream",
     "text": [
      "Scores: [95.23809523809523, 97.61904761904762, 100.0, 95.23809523809523, 100.0]\n",
      "Mean Accuracy: 97.619%\n",
      "0.25660133361816406\n",
      "0.47237563133239746\n"
     ]
    }
   ],
   "source": [
    "GlassEditedKNN = EditedKNN(Glass, 7)\n",
    "\n",
    "n_folds = 5\n",
    "num_neighbors = 5\n",
    "start = time.time()\n",
    "scores = evaluate_algorithm(GlassEditedKNN, k_nearest_neighbors, n_folds, num_neighbors)\n",
    "end = time.time()\n",
    "print('Scores: %s' % scores)\n",
    "print('Mean Accuracy: %.3f%%' % (sum(scores)/float(len(scores))))\n",
    "EditedGlassKNNTime = end - start\n",
    "print(EditedGlassKNNTime)\n",
    "print(RegularGlassTime)\n"
   ]
  },
  {
   "cell_type": "code",
   "execution_count": 34,
   "metadata": {
    "scrolled": true
   },
   "outputs": [
    {
     "name": "stdout",
     "output_type": "stream",
     "text": [
      "Scores: [91.86046511627907, 94.18604651162791, 90.69767441860465, 93.02325581395348, 91.86046511627907]\n",
      "Mean Accuracy: 92.326%\n"
     ]
    }
   ],
   "source": [
    "HouseVoteEditedKNN = EditedKNN(HouseVote, 7)\n",
    "\n",
    "n_folds = 5\n",
    "num_neighbors = 6\n",
    "scores = evaluate_algorithm(HouseVoteEditedKNN, k_nearest_neighbors, n_folds, num_neighbors)\n",
    "print('Scores: %s' % scores)\n",
    "print('Mean Accuracy: %.3f%%' % (sum(scores)/float(len(scores))))"
   ]
  },
  {
   "cell_type": "code",
   "execution_count": 36,
   "metadata": {
    "scrolled": true
   },
   "outputs": [
    {
     "name": "stdout",
     "output_type": "stream",
     "text": [
      "Scores: [0.0, 2.4390243902439024, 2.4390243902439024, 0.0, 2.4390243902439024]\n",
      "Mean Accuracy: 1.463%\n"
     ]
    }
   ],
   "source": [
    "SegmentationCEditedKNN = EditedKNN(SegmentationC, 7)\n",
    "\n",
    "n_folds = 5\n",
    "num_neighbors = 6\n",
    "scores = evaluate_algorithm(SegmentationCEditedKNN, k_nearest_neighbors, n_folds, num_neighbors)\n",
    "print('Scores: %s' % scores)\n",
    "print('Mean Accuracy: %.3f%%' % (sum(scores)/float(len(scores))))"
   ]
  },
  {
   "cell_type": "markdown",
   "metadata": {},
   "source": [
    "### Condensed Nearest Neighbor"
   ]
  },
  {
   "cell_type": "code",
   "execution_count": 82,
   "metadata": {},
   "outputs": [],
   "source": [
    "def CondensedKNN(PDDataset, K):\n",
    "    CopyDataSet = []\n",
    "    DataList = PDDataset.values.tolist()\n",
    "    for x in range(len(DataList)-7):\n",
    "        prediction = predict_classification_edited(DataList, DataList[x], K)\n",
    "        if DataList[x][-1] == prediction:\n",
    "            CopyDataSet.append(x)\n",
    "            #print(CopyDataSet)\n",
    "            #print(PDDataset.iloc[[x]])\n",
    "            #time.sleep(0.1)\n",
    "            #print(CopyDataSet)\n",
    "            #PDDataset = PDDataset.drop(index = x)\n",
    "    print(CopyDataSet)\n",
    "    PDDataset = PDDataset.iloc[CopyDataSet]\n",
    "    PDDataset = PDDataset.reset_index(drop=True)\n",
    "    return PDDataset.values.tolist()\n",
    "\n",
    "# def EditedCNN(PDDataset, K):\n",
    "#     J = 0\n",
    "#     K = 0\n",
    "#     CopyDataSet = []\n",
    "#     DoneDropping = True\n",
    "#     while(DoneDropping):\n",
    "#         K = K+1\n",
    "#         J = 0\n",
    "#         DataList = PDDataset.values.tolist()\n",
    "#         PrviousJ = len(DataList)\n",
    "# #         print('Perevios J : '+ str(PrviousJ))\n",
    "#         for x in range(len(DataList)):\n",
    "#             prediction = predict_classification_edited(DataList, DataList[x], K)\n",
    "#             if DataList[x][-1] == prediction:\n",
    "#                 CopyDataSet.append(x)\n",
    "#                 #PDDataset = PDDataset.drop(index = x)\n",
    "#                 J = J + 1\n",
    "# #         print(J)\n",
    "#         if J < 1 or K > 1:\n",
    "#             DoneDropping = False    \n",
    "#         print(PDDataset.shape)\n",
    "#         PDDataset = PDDataset.iloc[CopyDataSet]\n",
    "#         PDDataset = PDDataset.reset_index(drop=True)\n",
    "#     print(CopyDataSet)          \n",
    "#     return PDDataset.values.tolist()\n",
    "\n",
    "def CNN(DataSet,Bestk,WorsK):\n",
    "    CondensedData = CondensedKNN(DataSet, 2)\n",
    "    n_folds = 5\n",
    "    num_neighbors = 5\n",
    "    start = time.time()\n",
    "    scores = evaluate_algorithm(CondensedData, k_nearest_neighbors, n_folds, num_neighbors)\n",
    "    end = time.time()\n",
    "    print('Scores: %s' % scores)\n",
    "    print('Mean Accuracy: %.3f%%' % (sum(scores)/float(len(scores))))\n",
    "    Time = end - start\n",
    "    print(Time)"
   ]
  },
  {
   "cell_type": "code",
   "execution_count": 68,
   "metadata": {},
   "outputs": [
    {
     "name": "stdout",
     "output_type": "stream",
     "text": [
      "[0, 1, 2, 3, 4, 5, 6, 7, 8, 11, 15, 16, 18, 19, 20, 22, 23, 25, 26, 28, 29, 30, 31, 32, 33, 34, 38, 39, 40, 41, 42, 43, 44, 45, 46, 47, 48, 49, 50, 52, 53, 55, 56, 57, 58, 59, 60, 64, 66, 69, 70, 71, 72, 73, 74, 76, 78, 79, 80, 81, 82, 83, 84, 85, 86, 87, 88, 89, 90, 91, 92, 93, 94, 95, 96, 97, 98, 99, 100, 101, 102, 103, 104, 105, 106, 107, 108, 109, 110, 111, 112, 113, 114, 115, 116, 117, 118, 119, 120, 121, 122, 123, 124, 125, 126, 127, 128, 129, 130, 131, 132, 133, 134, 135, 137, 139, 140, 141, 142, 143, 145, 146, 147, 148, 150, 151, 154, 155, 157, 158, 161, 164, 165, 172, 173, 174, 175, 176, 177, 178, 179, 180, 182, 183, 184, 185, 186, 187, 188, 189, 190, 191, 193, 194, 195, 196, 197, 198, 199, 200]\n",
      "Scores: [37.5, 28.125, 31.25, 31.25, 31.25]\n",
      "Mean Accuracy: 31.875%\n",
      "0.22815799713134766\n"
     ]
    }
   ],
   "source": [
    "CNN(Machine, 5, 5)"
   ]
  },
  {
   "cell_type": "code",
   "execution_count": 39,
   "metadata": {},
   "outputs": [
    {
     "name": "stdout",
     "output_type": "stream",
     "text": [
      "Scores: [91.46341463414635, 89.02439024390245, 97.5609756097561, 97.5609756097561, 96.34146341463415]\n",
      "Mean Accuracy: 94.390%\n",
      "1.5992155075073242\n"
     ]
    }
   ],
   "source": [
    "CNN(HouseVote, 5, 7)"
   ]
  },
  {
   "cell_type": "code",
   "execution_count": 40,
   "metadata": {},
   "outputs": [
    {
     "name": "stdout",
     "output_type": "stream",
     "text": [
      "Scores: [35.24752475247524, 36.43564356435643, 36.43564356435643, 36.633663366336634, 34.05940594059406]\n",
      "Mean Accuracy: 35.762%\n",
      "34.19151735305786\n"
     ]
    }
   ],
   "source": [
    "CNN(Abalone, 5, 2)"
   ]
  },
  {
   "cell_type": "code",
   "execution_count": 41,
   "metadata": {},
   "outputs": [
    {
     "name": "stdout",
     "output_type": "stream",
     "text": [
      "Scores: [100.0, 100.0, 90.2439024390244, 97.5609756097561, 100.0]\n",
      "Mean Accuracy: 97.561%\n",
      "0.22760272026062012\n"
     ]
    }
   ],
   "source": [
    "CNN(Glass, 5, 5)"
   ]
  },
  {
   "cell_type": "code",
   "execution_count": 43,
   "metadata": {},
   "outputs": [
    {
     "name": "stdout",
     "output_type": "stream",
     "text": [
      "Scores: [9.090909090909092, 0.0, 18.181818181818183, 0.0, 9.090909090909092]\n",
      "Mean Accuracy: 7.273%\n",
      "0.02652740478515625\n"
     ]
    }
   ],
   "source": [
    "CNN(SegmentationC, 5, 5)"
   ]
  },
  {
   "cell_type": "code",
   "execution_count": 44,
   "metadata": {},
   "outputs": [
    {
     "name": "stdout",
     "output_type": "stream",
     "text": [
      "Scores: [72.46376811594203, 68.11594202898551, 68.11594202898551, 68.11594202898551, 63.76811594202898]\n",
      "Mean Accuracy: 68.116%\n",
      "0.7428293228149414\n"
     ]
    }
   ],
   "source": [
    "CNN(ForestFire, 5, 5)"
   ]
  }
 ],
 "metadata": {
  "kernelspec": {
   "display_name": "Python 3",
   "language": "python",
   "name": "python3"
  },
  "language_info": {
   "codemirror_mode": {
    "name": "ipython",
    "version": 3
   },
   "file_extension": ".py",
   "mimetype": "text/x-python",
   "name": "python",
   "nbconvert_exporter": "python",
   "pygments_lexer": "ipython3",
   "version": "3.7.6"
  },
  "toc": {
   "base_numbering": 1,
   "nav_menu": {},
   "number_sections": true,
   "sideBar": true,
   "skip_h1_title": false,
   "title_cell": "Table of Contents",
   "title_sidebar": "Contents",
   "toc_cell": false,
   "toc_position": {
    "height": "calc(100% - 180px)",
    "left": "10px",
    "top": "150px",
    "width": "529.75px"
   },
   "toc_section_display": true,
   "toc_window_display": true
  }
 },
 "nbformat": 4,
 "nbformat_minor": 4
}
